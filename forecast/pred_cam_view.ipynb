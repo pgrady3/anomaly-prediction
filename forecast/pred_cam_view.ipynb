{
 "metadata": {
  "language_info": {
   "codemirror_mode": {
    "name": "ipython",
    "version": 3
   },
   "file_extension": ".py",
   "mimetype": "text/x-python",
   "name": "python",
   "nbconvert_exporter": "python",
   "pygments_lexer": "ipython3",
   "version": "3.7.3-final"
  },
  "orig_nbformat": 2,
  "kernelspec": {
   "name": "python_defaultSpec_1600327160252",
   "display_name": "Python 3.7.3 64-bit ('base': conda)"
  }
 },
 "nbformat": 4,
 "nbformat_minor": 2,
 "cells": [
  {
   "cell_type": "code",
   "execution_count": null,
   "metadata": {},
   "outputs": [],
   "source": [
    "import argparse\n",
    "import json\n",
    "import os\n",
    "\n",
    "import matplotlib.pyplot as plt\n",
    "from PIL import Image\n",
    "import numpy as np\n",
    "\n",
    "from nuscenes import NuScenes\n",
    "from nuscenes.eval.prediction.config import load_prediction_config\n",
    "from nuscenes.eval.prediction.splits import get_prediction_challenge_split\n",
    "from nuscenes.prediction import PredictHelper\n",
    "from nuscenes.prediction.input_representation.static_layers import StaticLayerRasterizer\n",
    "from nuscenes.prediction.input_representation.agents import AgentBoxesWithFadedHistory\n",
    "from nuscenes.prediction.input_representation.interface import InputRepresentation\n",
    "from nuscenes.prediction.input_representation.combinators import Rasterizer"
   ]
  },
  {
   "cell_type": "code",
   "execution_count": null,
   "metadata": {},
   "outputs": [],
   "source": [
    "def get_im_and_box(nusc, token, cam_name=\"CAM_FRONT\"):\n",
    "    \"\"\"\n",
    "    Plots the camera view with bounding box around the agent to be predicted\n",
    "    :param ax: matplotlib axes object\n",
    "    :param nusc: NuScenes object\n",
    "    :param token: Prediction token consisting of instance_sample token pair\n",
    "    :param cam_name: Name of camera to use\n",
    "    :return: (image, box, camera_instrinsic)\n",
    "    \"\"\"\n",
    "    instance_token, sample_token = token.split('_')\n",
    "    # get tokens\n",
    "    sample = nusc.get('sample', sample_token)\n",
    "    sample_cam_token = nusc.get('sample_data', sample['data'][cam_name])['token']\n",
    "    annotations_in_sample = [nusc.get('sample_annotation', annotation) for annotation in sample['anns']]\n",
    "    annotation_instance, *_ = (ann for ann in annotations_in_sample if ann['instance_token'] == instance_token)\n",
    "    # plot\n",
    "    data_path, boxes, camera_intrinsic = nusc.get_sample_data(sample_cam_token, selected_anntokens=[annotation_instance['token']])\n",
    "    im = Image.open(data_path)\n",
    "    if len(boxes) > 0:\n",
    "        return im, boxes[0], camera_intrinsic\n",
    "    else:\n",
    "        return im, None, camera_intrinsic\n",
    "\n",
    "def plot_cam_view(ax, nusc, token, cam_name='CAM_FRONT'):\n",
    "    \"\"\"\n",
    "    Plots the camera view with bounding box around the agent to be predicted\n",
    "    :param ax: matplotlib axes object\n",
    "    :param nusc: NuScenes object\n",
    "    :param token: Prediction token consisting of instance_sample token pair\n",
    "    :param cam_name: Name of camera to use\n",
    "    \"\"\"\n",
    "    im, box, camera_intrinsic = get_im_and_box(nusc, token, cam_name)\n",
    "    ax.imshow(im)\n",
    "    ax.set_title(cam_name)\n",
    "    ax.axis('off')\n",
    "    ax.set_aspect('equal')\n",
    "    if box is not None:\n",
    "        c = np.array(nusc.explorer.get_color(box.name)) / 255.0\n",
    "        box.render(ax, view=camera_intrinsic, normalize=True, colors=(c, c, c))"
   ]
  },
  {
   "cell_type": "code",
   "execution_count": null,
   "metadata": {},
   "outputs": [],
   "source": [
    "version = 'v1.0-mini'\n",
    "data_root = '/Users/Gerry/Downloads/v1.0-mini'\n",
    "split_name = 'mini_train'\n",
    "config_name = 'predict_2020_icra.json'"
   ]
  },
  {
   "cell_type": "code",
   "execution_count": null,
   "metadata": {
    "tags": []
   },
   "outputs": [],
   "source": [
    "nusc = NuScenes(version=version, dataroot=data_root)\n",
    "helper = PredictHelper(nusc)\n",
    "dataset = get_prediction_challenge_split(split_name, dataroot=data_root)\n",
    "config = load_prediction_config(helper, config_name)"
   ]
  },
  {
   "cell_type": "code",
   "execution_count": null,
   "metadata": {},
   "outputs": [],
   "source": [
    "static_layer_rasterizer = StaticLayerRasterizer(helper)\n",
    "agent_rasterizer = AgentBoxesWithFadedHistory(helper, seconds_of_history=3)\n",
    "mtp_input_representation = InputRepresentation(static_layer_rasterizer, agent_rasterizer, Rasterizer())"
   ]
  },
  {
   "cell_type": "code",
   "execution_count": null,
   "metadata": {},
   "outputs": [],
   "source": [
    "index = 0"
   ]
  },
  {
   "cell_type": "code",
   "execution_count": null,
   "metadata": {
    "tags": []
   },
   "outputs": [],
   "source": [
    "for token in dataset[index:index+1]:\n",
    "    fig, axes = plt.subplots(1, 3, figsize=(18, 9))\n",
    "    print(token)\n",
    "    instance_token, sample_token = token.split('_')\n",
    "\n",
    "    plot_cam_view(axes[1], nusc, token)\n",
    "    plot_cam_view(axes[2], nusc, token, cam_name='CAM_FRONT_RIGHT')\n",
    "    axes[0].imshow(mtp_input_representation.make_input_representation(instance_token, sample_token))\n",
    "plt.show()\n",
    "index += 2"
   ]
  },
  {
   "cell_type": "code",
   "execution_count": null,
   "metadata": {},
   "outputs": [],
   "source": []
  }
 ]
}